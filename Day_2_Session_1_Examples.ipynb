{
  "nbformat": 4,
  "nbformat_minor": 0,
  "metadata": {
    "colab": {
      "name": "Day 2 Session 1 Examples.ipynb",
      "provenance": [],
      "authorship_tag": "ABX9TyPm2Z13nWAWZkaX3bWWjLUp",
      "include_colab_link": true
    },
    "kernelspec": {
      "name": "python3",
      "display_name": "Python 3"
    }
  },
  "cells": [
    {
      "cell_type": "markdown",
      "metadata": {
        "id": "view-in-github",
        "colab_type": "text"
      },
      "source": [
        "<a href=\"https://colab.research.google.com/github/SPSSURYA/Python-BOOT-CAMP/blob/master/Day_2_Session_1_Examples.ipynb\" target=\"_parent\"><img src=\"https://colab.research.google.com/assets/colab-badge.svg\" alt=\"Open In Colab\"/></a>"
      ]
    },
    {
      "cell_type": "code",
      "metadata": {
        "id": "w3KBulQMN5KN",
        "colab_type": "code",
        "colab": {
          "base_uri": "https://localhost:8080/",
          "height": 121
        },
        "outputId": "02cd61af-d46f-4cca-833d-a65180850348"
      },
      "source": [
        "a=[] \n",
        "n=int(input(\"Enter number of elements:\")) \n",
        "for i in range(1,n+1): \n",
        " b=int(input(\"Enter element:\")) \n",
        " a.append(b) \n",
        "a.sort() \n",
        "print(\"Largest element is:\",a[n-1]) \n"
      ],
      "execution_count": 1,
      "outputs": [
        {
          "output_type": "stream",
          "text": [
            "Enter number of elements:4\n",
            "Enter element:5\n",
            "Enter element:6\n",
            "Enter element:2\n",
            "Enter element:8\n",
            "Largest element is: 8\n"
          ],
          "name": "stdout"
        }
      ]
    },
    {
      "cell_type": "code",
      "metadata": {
        "id": "MgCC-wS2Pt4w",
        "colab_type": "code",
        "colab": {
          "base_uri": "https://localhost:8080/",
          "height": 139
        },
        "outputId": "ff6ee5eb-dc46-471b-ab11-e1fb94f9f9c3"
      },
      "source": [
        "a=[] \n",
        "n=int(input(\"Enter number of elements:\")) \n",
        "for i in range(1,n+1): \n",
        " b=int(input(\"Enter element:\")) \n",
        " a.append(b) \n",
        "even=[] \n",
        "odd=[] \n",
        "for j in a: \n",
        " if(j%2==0): \n",
        "    even.append(j) \n",
        " else: \n",
        "  odd.append(j) \n",
        "print(\"The even list\",even) \n",
        "print(\"The odd list\",odd) \n"
      ],
      "execution_count": 5,
      "outputs": [
        {
          "output_type": "stream",
          "text": [
            "Enter number of elements:4\n",
            "Enter element:2\n",
            "Enter element:1\n",
            "Enter element:5\n",
            "Enter element:6\n",
            "The even list [2, 6]\n",
            "The odd list [1, 5]\n"
          ],
          "name": "stdout"
        }
      ]
    },
    {
      "cell_type": "code",
      "metadata": {
        "id": "VnYSLIVnQHcw",
        "colab_type": "code",
        "colab": {
          "base_uri": "https://localhost:8080/",
          "height": 191
        },
        "outputId": "333213f6-c359-4456-9d1a-c7fd7a02a4ac"
      },
      "source": [
        "a=[] \n",
        "c=[] \n",
        "n1=int(input(\"Enter number of elements:\")) \n",
        "for i in range(1,n1+1): \n",
        " b=int(input(\"Enter element:\")) \n",
        " a.append(b) \n",
        "for i in range(1,n2+1): \n",
        " d=int(input(\"Enter element:\")) \n",
        " c.append(d) \n",
        "new=a+c \n",
        "new.sort()\n",
        "print(\"Sorted list is:\",new) \n"
      ],
      "execution_count": 26,
      "outputs": [
        {
          "output_type": "stream",
          "text": [
            "Enter number of elements:4\n",
            "Enter element:2\n",
            "Enter element:4\n",
            "Enter element:5\n",
            "Enter element:1\n",
            "Enter element:4\n",
            "Enter element:2\n",
            "Enter element:11\n",
            "Enter element:42\n",
            "Sorted list is: [1, 2, 2, 4, 4, 5, 11, 42]\n"
          ],
          "name": "stdout"
        }
      ]
    },
    {
      "cell_type": "code",
      "metadata": {
        "id": "76t1SOZjQbuE",
        "colab_type": "code",
        "colab": {
          "base_uri": "https://localhost:8080/",
          "height": 34
        },
        "outputId": "75faff34-ef25-418a-e4bb-5f03a7c9f6ca"
      },
      "source": [
        "a=[['A',34],['B',21],['C',26],['E',29]] \n",
        "for i in range(0,len(a)): \n",
        " for j in range(i+1,len(a)): \n",
        "    if(a[i][1]>a[j][1]): \n",
        "      temp=a[j] \n",
        "      a[j]=a[i] \n",
        "      a[i]=temp \n",
        "print(a)"
      ],
      "execution_count": 15,
      "outputs": [
        {
          "output_type": "stream",
          "text": [
            "[['B', 21], ['C', 26], ['E', 29], ['A', 34]]\n"
          ],
          "name": "stdout"
        }
      ]
    },
    {
      "cell_type": "code",
      "metadata": {
        "id": "MLnFtIn_Q9qF",
        "colab_type": "code",
        "colab": {
          "base_uri": "https://localhost:8080/",
          "height": 121
        },
        "outputId": "4b3985a5-8d21-40f3-a3ea-4c9e3f44172c"
      },
      "source": [
        "a=[] \n",
        "n=int(input(\"Enter number of elements:\")) \n",
        "for i in range(1,n+1): \n",
        " b=int(input(\"Enter element:\")) \n",
        " a.append(b) \n",
        "for i in range(0,len(a)): \n",
        " for j in range(0,len(a)-i-1): \n",
        "  if(a[j]>a[j+1]): \n",
        "    temp=a[j] \n",
        "    a[j]=a[j+1] \n",
        "    a[j+1]=temp  \n",
        "print('Second largest number is:',a[n-2]) \n"
      ],
      "execution_count": 17,
      "outputs": [
        {
          "output_type": "stream",
          "text": [
            "Enter number of elements:4\n",
            "Enter element:2\n",
            "Enter element:4\n",
            "Enter element:5\n",
            "Enter element:1\n",
            "Second largest number is: 4\n"
          ],
          "name": "stdout"
        }
      ]
    },
    {
      "cell_type": "code",
      "metadata": {
        "id": "dQMEvSkLRP2R",
        "colab_type": "code",
        "colab": {
          "base_uri": "https://localhost:8080/",
          "height": 69
        },
        "outputId": "356c62a4-129e-48f9-c7e9-8ee1539bd697"
      },
      "source": [
        "l_range=int(input(\"Enter the lower range:\")) \n",
        "u_range=int(input(\"Enter the upper range:\")) \n",
        "a=[(x,x**2) for x in range(l_range,u_range+1)] \n",
        "print(a) \n"
      ],
      "execution_count": 18,
      "outputs": [
        {
          "output_type": "stream",
          "text": [
            "Enter the lower range:2\n",
            "Enter the upper range:8\n",
            "[(2, 4), (3, 9), (4, 16), (5, 25), (6, 36), (7, 49), (8, 64)]\n"
          ],
          "name": "stdout"
        }
      ]
    },
    {
      "cell_type": "code",
      "metadata": {
        "id": "tQr1y2NGRZ9O",
        "colab_type": "code",
        "colab": {
          "base_uri": "https://localhost:8080/",
          "height": 52
        },
        "outputId": "d8b33730-6379-42ae-aa20-9e5ca30973dc"
      },
      "source": [
        "import random \n",
        "a=[] \n",
        "n=int(input(\"Enter number of elements:\")) \n",
        "for j in range(n): \n",
        " a.append(random.randint(1,20)) \n",
        "print('Randomised list is: ',a)\n"
      ],
      "execution_count": 19,
      "outputs": [
        {
          "output_type": "stream",
          "text": [
            "Enter number of elements:4\n",
            "Randomised list is:  [12, 19, 6, 4]\n"
          ],
          "name": "stdout"
        }
      ]
    },
    {
      "cell_type": "markdown",
      "metadata": {
        "id": "VAvj6YUxg3Wx",
        "colab_type": "text"
      },
      "source": [
        "TUPLES"
      ]
    },
    {
      "cell_type": "code",
      "metadata": {
        "id": "_CjbK9JkhCaP",
        "colab_type": "code",
        "colab": {
          "base_uri": "https://localhost:8080/",
          "height": 34
        },
        "outputId": "6df29142-74f4-4390-efa3-ea6505509707"
      },
      "source": [
        "txt = 'but soft what light in yonder window breaks' \n",
        "words = txt.split() \n",
        "t = list() \n",
        "for word in words: \n",
        " t.append((len(word), word)) \n",
        "t.sort(reverse=True) \n",
        "res = list() \n",
        "for length, word in t: \n",
        " res.append(word) \n",
        "print(res) \n"
      ],
      "execution_count": 20,
      "outputs": [
        {
          "output_type": "stream",
          "text": [
            "['yonder', 'window', 'breaks', 'light', 'what', 'soft', 'but', 'in']\n"
          ],
          "name": "stdout"
        }
      ]
    },
    {
      "cell_type": "code",
      "metadata": {
        "id": "_kmeKG4LhSri",
        "colab_type": "code",
        "colab": {
          "base_uri": "https://localhost:8080/",
          "height": 52
        },
        "outputId": "13ff9abf-a23a-4711-b6f5-273a2b848a0e"
      },
      "source": [
        "pair = (\"dog\", \"cat\") \n",
        "# Unpack tuple. \n",
        "(key, value) = pair\n",
        "# Display unpacked variables. \n",
        "print(key) \n",
        "print(value)\n"
      ],
      "execution_count": 21,
      "outputs": [
        {
          "output_type": "stream",
          "text": [
            "dog\n",
            "cat\n"
          ],
          "name": "stdout"
        }
      ]
    },
    {
      "cell_type": "code",
      "metadata": {
        "id": "W65w9Fpehiar",
        "colab_type": "code",
        "colab": {
          "base_uri": "https://localhost:8080/",
          "height": 52
        },
        "outputId": "2b364fd5-a733-4f8e-ff2e-3cf193368132"
      },
      "source": [
        "pair = (\"dog\", \"cat\") \n",
        "# Search for a value. \n",
        "if \"cat\" in pair: \n",
        " print(\"Cat found\") \n",
        "# Search for a value not present. \n",
        "if \"bird\" not in pair: \n",
        " print(\"Bird not found\") \n"
      ],
      "execution_count": 22,
      "outputs": [
        {
          "output_type": "stream",
          "text": [
            "Cat found\n",
            "Bird not found\n"
          ],
          "name": "stdout"
        }
      ]
    }
  ]
}