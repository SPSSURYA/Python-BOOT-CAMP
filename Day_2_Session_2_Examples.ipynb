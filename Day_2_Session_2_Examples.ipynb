{
  "nbformat": 4,
  "nbformat_minor": 0,
  "metadata": {
    "colab": {
      "name": "Day 2 Session 2 Examples.ipynb",
      "provenance": [],
      "authorship_tag": "ABX9TyOP8EL8QhCxKV2TCkFK5xqF",
      "include_colab_link": true
    },
    "kernelspec": {
      "name": "python3",
      "display_name": "Python 3"
    }
  },
  "cells": [
    {
      "cell_type": "markdown",
      "metadata": {
        "id": "view-in-github",
        "colab_type": "text"
      },
      "source": [
        "<a href=\"https://colab.research.google.com/github/SPSSURYA/Python-BOOT-CAMP/blob/master/Day_2_Session_2_Examples.ipynb\" target=\"_parent\"><img src=\"https://colab.research.google.com/assets/colab-badge.svg\" alt=\"Open In Colab\"/></a>"
      ]
    },
    {
      "cell_type": "code",
      "metadata": {
        "id": "sCLOb3Q_LjAI",
        "colab_type": "code",
        "colab": {
          "base_uri": "https://localhost:8080/",
          "height": 52
        },
        "outputId": "7ae0b668-7d10-4e2a-c442-dc321f6731de"
      },
      "source": [
        "dict = {'Name': 'Zara', 'Age': 7}; \n",
        "print(\"Start Len : %d\" % len(dict)) \n",
        "dict.clear() \n",
        "print(\"End Len : %d\" % len(dict)) \n"
      ],
      "execution_count": 1,
      "outputs": [
        {
          "output_type": "stream",
          "text": [
            "Start Len : 2\n",
            "End Len : 0\n"
          ],
          "name": "stdout"
        }
      ]
    },
    {
      "cell_type": "code",
      "metadata": {
        "id": "rO8nZnDDMUwN",
        "colab_type": "code",
        "colab": {
          "base_uri": "https://localhost:8080/",
          "height": 34
        },
        "outputId": "af13d72e-6690-485c-ea94-f3f35a4227e9"
      },
      "source": [
        "dict = {'Name': 'Zara', 'Age': 7} \n",
        "print (\"Value : %s\" % dict.items()) \n"
      ],
      "execution_count": 2,
      "outputs": [
        {
          "output_type": "stream",
          "text": [
            "Value : dict_items([('Name', 'Zara'), ('Age', 7)])\n"
          ],
          "name": "stdout"
        }
      ]
    },
    {
      "cell_type": "code",
      "metadata": {
        "id": "26JD6ei6Me5Z",
        "colab_type": "code",
        "colab": {
          "base_uri": "https://localhost:8080/",
          "height": 34
        },
        "outputId": "02d7012a-46ef-412f-c4d0-010002397f40"
      },
      "source": [
        "dict1 = {'Name': 'Zara', 'Age': 7}; \n",
        "dict2 = dict1.copy() \n",
        "print (\"New Dictinary : %s\" % str(dict2)) \n",
        "\n"
      ],
      "execution_count": 4,
      "outputs": [
        {
          "output_type": "stream",
          "text": [
            "New Dictinary : {'Name': 'Zara', 'Age': 7}\n"
          ],
          "name": "stdout"
        }
      ]
    },
    {
      "cell_type": "code",
      "metadata": {
        "id": "awmu9Je-Mo5C",
        "colab_type": "code",
        "colab": {
          "base_uri": "https://localhost:8080/",
          "height": 52
        },
        "outputId": "6e0c2f2d-88fa-4038-8aba-fb61b6891520"
      },
      "source": [
        "n=int(input(\"Enter a number:\")) \n",
        "d={x:x*x for x in range(1,n+1)} \n",
        "print(d)\n"
      ],
      "execution_count": 5,
      "outputs": [
        {
          "output_type": "stream",
          "text": [
            "Enter a number:4\n",
            "{1: 1, 2: 4, 3: 9, 4: 16}\n"
          ],
          "name": "stdout"
        }
      ]
    },
    {
      "cell_type": "code",
      "metadata": {
        "id": "oPXhm6FxMz3T",
        "colab_type": "code",
        "colab": {
          "base_uri": "https://localhost:8080/",
          "height": 52
        },
        "outputId": "63458ed0-dafa-489c-dfba-01f3accd4d36"
      },
      "source": [
        "d={'A':100,'B':540,'C':239} \n",
        "print(\"Total sum of values in the dictionary:\") \n",
        "print(sum(d.values())) \n"
      ],
      "execution_count": 6,
      "outputs": [
        {
          "output_type": "stream",
          "text": [
            "Total sum of values in the dictionary:\n",
            "879\n"
          ],
          "name": "stdout"
        }
      ]
    },
    {
      "cell_type": "code",
      "metadata": {
        "id": "4luMbn4eM35M",
        "colab_type": "code",
        "colab": {
          "base_uri": "https://localhost:8080/",
          "height": 104
        },
        "outputId": "8336d599-c99e-4811-de1a-7385792d41ff"
      },
      "source": [
        "d = {'a':1,'b':2,'c':3,'d':4} \n",
        "print(\"Initial dictionary\") \n",
        "print(d) \n",
        "key=input(\"Enter the key to delete(a-d):\") \n",
        "if key in d:  \n",
        " del d[key] \n",
        "else: \n",
        " print(\"Key not found!\") \n",
        " exit(0) \n",
        "print(\"Updated dictionary\") \n",
        "print(d) \n"
      ],
      "execution_count": 1,
      "outputs": [
        {
          "output_type": "stream",
          "text": [
            "Initial dictionary\n",
            "{'a': 1, 'b': 2, 'c': 3, 'd': 4}\n",
            "Enter the key to delete(a-d):b\n",
            "Updated dictionary\n",
            "{'a': 1, 'c': 3, 'd': 4}\n"
          ],
          "name": "stdout"
        }
      ]
    },
    {
      "cell_type": "code",
      "metadata": {
        "id": "ivnkpD_6NLQL",
        "colab_type": "code",
        "colab": {
          "base_uri": "https://localhost:8080/",
          "height": 243
        },
        "outputId": "696b6ac8-bcc4-4cf3-ccd7-54d89a03861b"
      },
      "source": [
        "n=int(input(\"Enter no of records\")) \n",
        "d={} \n",
        "for i in range(1,n+1): \n",
        " name= input(\"Enter name %d\"%(i)) \n",
        " mark=int(input(\"Enter mark %d\"%(i))) \n",
        " d[name]=mark \n",
        " print (d) \n"
      ],
      "execution_count": 2,
      "outputs": [
        {
          "output_type": "stream",
          "text": [
            "Enter no of records4\n",
            "Enter name 1surya\n",
            "Enter mark 198\n",
            "{'surya': 98}\n",
            "Enter name 2seena\n",
            "Enter mark 296\n",
            "{'surya': 98, 'seena': 96}\n",
            "Enter name 3sushas\n",
            "Enter mark 388\n",
            "{'surya': 98, 'seena': 96, 'sushas': 88}\n",
            "Enter name 4sai\n",
            "Enter mark 474\n",
            "{'surya': 98, 'seena': 96, 'sushas': 88, 'sai': 74}\n"
          ],
          "name": "stdout"
        }
      ]
    },
    {
      "cell_type": "code",
      "metadata": {
        "id": "wgcZgUCbNdEq",
        "colab_type": "code",
        "colab": {
          "base_uri": "https://localhost:8080/",
          "height": 853
        },
        "outputId": "73090734-672c-45fa-9ae5-7a0c19229155"
      },
      "source": [
        "d={} \n",
        "print (\" The dictionary elements are\") \n",
        "for i in range(1,21): \n",
        "  d[i]=i**2 \n",
        "  print (d) \n",
        " # To print key and values \n",
        "print (\" Key==> Value are\") \n",
        "for (k,v) in d.items(): \n",
        "  print(k,\"==>\",v) \n",
        " # To print key only \n",
        "print (\"\\nTo print key only\") \n",
        "for k in d.keys(): \n",
        "  print(k, end=\" \") \n",
        " #To print value only \n",
        "print (\"\\nTo print values only\") \n",
        "for v in d.values(): \n",
        "  print(v, end=\" \") \n"
      ],
      "execution_count": 9,
      "outputs": [
        {
          "output_type": "stream",
          "text": [
            " The dictionary elements are\n",
            "{1: 1}\n",
            "{1: 1, 2: 4}\n",
            "{1: 1, 2: 4, 3: 9}\n",
            "{1: 1, 2: 4, 3: 9, 4: 16}\n",
            "{1: 1, 2: 4, 3: 9, 4: 16, 5: 25}\n",
            "{1: 1, 2: 4, 3: 9, 4: 16, 5: 25, 6: 36}\n",
            "{1: 1, 2: 4, 3: 9, 4: 16, 5: 25, 6: 36, 7: 49}\n",
            "{1: 1, 2: 4, 3: 9, 4: 16, 5: 25, 6: 36, 7: 49, 8: 64}\n",
            "{1: 1, 2: 4, 3: 9, 4: 16, 5: 25, 6: 36, 7: 49, 8: 64, 9: 81}\n",
            "{1: 1, 2: 4, 3: 9, 4: 16, 5: 25, 6: 36, 7: 49, 8: 64, 9: 81, 10: 100}\n",
            "{1: 1, 2: 4, 3: 9, 4: 16, 5: 25, 6: 36, 7: 49, 8: 64, 9: 81, 10: 100, 11: 121}\n",
            "{1: 1, 2: 4, 3: 9, 4: 16, 5: 25, 6: 36, 7: 49, 8: 64, 9: 81, 10: 100, 11: 121, 12: 144}\n",
            "{1: 1, 2: 4, 3: 9, 4: 16, 5: 25, 6: 36, 7: 49, 8: 64, 9: 81, 10: 100, 11: 121, 12: 144, 13: 169}\n",
            "{1: 1, 2: 4, 3: 9, 4: 16, 5: 25, 6: 36, 7: 49, 8: 64, 9: 81, 10: 100, 11: 121, 12: 144, 13: 169, 14: 196}\n",
            "{1: 1, 2: 4, 3: 9, 4: 16, 5: 25, 6: 36, 7: 49, 8: 64, 9: 81, 10: 100, 11: 121, 12: 144, 13: 169, 14: 196, 15: 225}\n",
            "{1: 1, 2: 4, 3: 9, 4: 16, 5: 25, 6: 36, 7: 49, 8: 64, 9: 81, 10: 100, 11: 121, 12: 144, 13: 169, 14: 196, 15: 225, 16: 256}\n",
            "{1: 1, 2: 4, 3: 9, 4: 16, 5: 25, 6: 36, 7: 49, 8: 64, 9: 81, 10: 100, 11: 121, 12: 144, 13: 169, 14: 196, 15: 225, 16: 256, 17: 289}\n",
            "{1: 1, 2: 4, 3: 9, 4: 16, 5: 25, 6: 36, 7: 49, 8: 64, 9: 81, 10: 100, 11: 121, 12: 144, 13: 169, 14: 196, 15: 225, 16: 256, 17: 289, 18: 324}\n",
            "{1: 1, 2: 4, 3: 9, 4: 16, 5: 25, 6: 36, 7: 49, 8: 64, 9: 81, 10: 100, 11: 121, 12: 144, 13: 169, 14: 196, 15: 225, 16: 256, 17: 289, 18: 324, 19: 361}\n",
            "{1: 1, 2: 4, 3: 9, 4: 16, 5: 25, 6: 36, 7: 49, 8: 64, 9: 81, 10: 100, 11: 121, 12: 144, 13: 169, 14: 196, 15: 225, 16: 256, 17: 289, 18: 324, 19: 361, 20: 400}\n",
            " Key==> Value are\n",
            "1 ==> 1\n",
            "2 ==> 4\n",
            "3 ==> 9\n",
            "4 ==> 16\n",
            "5 ==> 25\n",
            "6 ==> 36\n",
            "7 ==> 49\n",
            "8 ==> 64\n",
            "9 ==> 81\n",
            "10 ==> 100\n",
            "11 ==> 121\n",
            "12 ==> 144\n",
            "13 ==> 169\n",
            "14 ==> 196\n",
            "15 ==> 225\n",
            "16 ==> 256\n",
            "17 ==> 289\n",
            "18 ==> 324\n",
            "19 ==> 361\n",
            "20 ==> 400\n",
            "\n",
            "To print key only\n",
            "1 2 3 4 5 6 7 8 9 10 11 12 13 14 15 16 17 18 19 20 \n",
            "To print values only\n",
            "1 4 9 16 25 36 49 64 81 100 121 144 169 196 225 256 289 324 361 400 "
          ],
          "name": "stdout"
        }
      ]
    },
    {
      "cell_type": "code",
      "metadata": {
        "id": "6CH7-KhNOnnA",
        "colab_type": "code",
        "colab": {
          "base_uri": "https://localhost:8080/",
          "height": 52
        },
        "outputId": "9fd55579-f483-419e-d23e-e40de6474c05"
      },
      "source": [
        "d={0:'',1:'one',2:'two',3:'three',4:'four',5:'five',6:'six',7:'seven',8:'eight',9:'nine',  10:'ten',11:'eleven',12:'twelve',13:'thirteen',14:'fourteen',15:'fifteen',16:'sixteen', 17:'seventeen',18:'eightteen',19:'nineteen',20:'twenty',30:'thirty',40:'fourty',50:'fifty', 60:'sixty',70:'seventy',80:'eighty',90:'ninty'} \n",
        "num=int(input(\"Enter the integer between 1 to 99:\")) \n",
        "if (num<=20): \n",
        " print(d[num]) \n",
        "if(num>20 and num<100): \n",
        " if num%10==0:  \n",
        "  print(d[num]) \n",
        " else: \n",
        "  print(d[num//10*10]+\" \"+d[num%10]) \n"
      ],
      "execution_count": 14,
      "outputs": [
        {
          "output_type": "stream",
          "text": [
            "Enter the integer between 1 to 99:86\n",
            "eighty six\n"
          ],
          "name": "stdout"
        }
      ]
    },
    {
      "cell_type": "code",
      "metadata": {
        "id": "5UaMLgp6PLYQ",
        "colab_type": "code",
        "colab": {
          "base_uri": "https://localhost:8080/",
          "height": 52
        },
        "outputId": "45cb1214-b3e3-4531-df6d-539eb6f25cd0"
      },
      "source": [
        "d = {\"Pierre\": 42, \"Anne\": 33, \"Zoe\": 24}\n",
        "#Use the sorted function and operator module \n",
        "import operator \n",
        "sorted_d = sorted(d.items(), key=operator.itemgetter(1)) \n",
        "print(sorted_d) \n",
        "sorted_a= sorted(d.items(), key=operator.itemgetter(1),reverse=True) \n",
        "print(sorted_a) \n"
      ],
      "execution_count": 15,
      "outputs": [
        {
          "output_type": "stream",
          "text": [
            "[('Zoe', 24), ('Anne', 33), ('Pierre', 42)]\n",
            "[('Pierre', 42), ('Anne', 33), ('Zoe', 24)]\n"
          ],
          "name": "stdout"
        }
      ]
    },
    {
      "cell_type": "code",
      "metadata": {
        "id": "QuGrKjtWPQPR",
        "colab_type": "code",
        "colab": {
          "base_uri": "https://localhost:8080/",
          "height": 69
        },
        "outputId": "78a405c6-2ef2-4e77-ac16-9c4863149114"
      },
      "source": [
        "fname = input(\"Enter file name: \") \n",
        "num_lines = 0 \n",
        "with open(fname, 'r') as f: \n",
        " for line in f: \n",
        "  num_lines += 1 \n",
        "print(\"Number of lines:\") \n",
        "print(num_lines) \n"
      ],
      "execution_count": 29,
      "outputs": [
        {
          "output_type": "stream",
          "text": [
            "Enter file name: /content/sps.txt\n",
            "Number of lines:\n",
            "4\n"
          ],
          "name": "stdout"
        }
      ]
    },
    {
      "cell_type": "code",
      "metadata": {
        "id": "gTBEjdNaPfHK",
        "colab_type": "code",
        "colab": {
          "base_uri": "https://localhost:8080/",
          "height": 173
        },
        "outputId": "ff54daaf-31cf-4c8c-f3df-74fb032b2ac5"
      },
      "source": [
        "fname = input(\"Enter file name: \") \n",
        "num_words = 0 \n",
        "with open(fname, 'r') as f: \n",
        " for line in f: \n",
        "  words = line.split() \n",
        "  num_words += len(words) \n",
        "  print(\"Number of words:\") \n",
        "  print(num_words)\n"
      ],
      "execution_count": 30,
      "outputs": [
        {
          "output_type": "stream",
          "text": [
            "Enter file name: /content/sps.txt\n",
            "Number of words:\n",
            "4\n",
            "Number of words:\n",
            "6\n",
            "Number of words:\n",
            "9\n",
            "Number of words:\n",
            "10\n"
          ],
          "name": "stdout"
        }
      ]
    },
    {
      "cell_type": "code",
      "metadata": {
        "id": "7l9q6N1PPgFJ",
        "colab_type": "code",
        "colab": {
          "base_uri": "https://localhost:8080/",
          "height": 69
        },
        "outputId": "a666de8d-0214-440c-9607-a7906991aac7"
      },
      "source": [
        "fname = input(\"Enter file name: \") \n",
        "word=input(\"Enter word to be searched:\") \n",
        "k = 0 \n",
        "with open(fname, 'r') as f: \n",
        " for line in f: \n",
        "  words = line.split() \n",
        " for i in words: \n",
        "  if(i==word): \n",
        "    k=k+1 \n",
        "    print(\"Occurrences of the word:\") \n",
        "  print(k) \n"
      ],
      "execution_count": 31,
      "outputs": [
        {
          "output_type": "stream",
          "text": [
            "Enter file name: /content/sps.txt\n",
            "Enter word to be searched:in\n",
            "0\n"
          ],
          "name": "stdout"
        }
      ]
    },
    {
      "cell_type": "code",
      "metadata": {
        "id": "6SxbXGrvP6R4",
        "colab_type": "code",
        "colab": {}
      },
      "source": [
        "with open(\"/content/sps.txt\") as f: \n",
        " with open(\"out.txt\", \"w\") as f1: \n",
        "  for line in f: \n",
        "    f1.write(line) \n"
      ],
      "execution_count": 35,
      "outputs": []
    },
    {
      "cell_type": "code",
      "metadata": {
        "id": "wdvGJZqUQENd",
        "colab_type": "code",
        "colab": {
          "base_uri": "https://localhost:8080/",
          "height": 104
        },
        "outputId": "1292e6e9-6112-4c84-d2ce-4d0728fd7f9f"
      },
      "source": [
        "filename=input(\"Enter file name: \") \n",
        "  \n",
        "with open (filename,'r') as f: \n",
        " for line in f: \n",
        "  l=line.split() \n",
        "  l.reverse()  \n",
        "  st= \" \".join(l) \n",
        "  print (st) \n"
      ],
      "execution_count": 36,
      "outputs": [
        {
          "output_type": "stream",
          "text": [
            "Enter file name: /content/sps.txt\n",
            "Prakash Surya am I\n",
            "B.E Studying\n",
            "College Alva's In\n",
            "Mijar\n"
          ],
          "name": "stdout"
        }
      ]
    }
  ]
}