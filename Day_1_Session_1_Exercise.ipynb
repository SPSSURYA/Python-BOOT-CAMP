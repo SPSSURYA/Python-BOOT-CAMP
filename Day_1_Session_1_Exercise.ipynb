{
  "nbformat": 4,
  "nbformat_minor": 0,
  "metadata": {
    "colab": {
      "name": "Day 1 Session 1 Exercise.ipynb",
      "provenance": [],
      "authorship_tag": "ABX9TyMY1aZO0odwW4l5qMFQsWbN",
      "include_colab_link": true
    },
    "kernelspec": {
      "name": "python3",
      "display_name": "Python 3"
    }
  },
  "cells": [
    {
      "cell_type": "markdown",
      "metadata": {
        "id": "view-in-github",
        "colab_type": "text"
      },
      "source": [
        "<a href=\"https://colab.research.google.com/github/SPSSURYA/Python-BOOT-CAMP/blob/master/Day_1_Session_1_Exercise.ipynb\" target=\"_parent\"><img src=\"https://colab.research.google.com/assets/colab-badge.svg\" alt=\"Open In Colab\"/></a>"
      ]
    },
    {
      "cell_type": "code",
      "metadata": {
        "id": "qG1eNyqXPqF0",
        "colab_type": "code",
        "colab": {
          "base_uri": "https://localhost:8080/",
          "height": 86
        },
        "outputId": "78bbd138-354d-43a3-81ae-72b3c074eebb"
      },
      "source": [
        "p=int(input(\"Enter the p\"))\n",
        "n=int(input(\"Enter the n\"))\n",
        "r=int(input(\"Enter the r\"))\n",
        "c=p*(((1+n*r)/100)**n)\n",
        "print(c)"
      ],
      "execution_count": 1,
      "outputs": [
        {
          "output_type": "stream",
          "text": [
            "Enter the p4000\n",
            "Enter the n96\n",
            "Enter the r6\n",
            "4.7308377570463493e+76\n"
          ],
          "name": "stdout"
        }
      ]
    },
    {
      "cell_type": "code",
      "metadata": {
        "id": "IoRpo-rPP3s5",
        "colab_type": "code",
        "colab": {
          "base_uri": "https://localhost:8080/",
          "height": 52
        },
        "outputId": "608b22ef-acd5-4f40-cf77-7413406f760d"
      },
      "source": [
        "c=int(input(\"Enter the c\"))\n",
        "f=(((9/5)*c)+32)\n",
        "print(f)"
      ],
      "execution_count": 2,
      "outputs": [
        {
          "output_type": "stream",
          "text": [
            "Enter the c84\n",
            "183.20000000000002\n"
          ],
          "name": "stdout"
        }
      ]
    },
    {
      "cell_type": "code",
      "metadata": {
        "id": "OHzr8QQAP8_p",
        "colab_type": "code",
        "colab": {
          "base_uri": "https://localhost:8080/",
          "height": 69
        },
        "outputId": "a9c86d2f-f2c3-41ad-87aa-9c9c15e41a5d"
      },
      "source": [
        "a=int(input(\"Enter the a \"))\n",
        "b=int(input(\"Enter the b \"))\n",
        "if(a>b):\n",
        "    print(a,\"a is greater\")\n",
        "else:\n",
        "    print(b,\"b is greater\")"
      ],
      "execution_count": 3,
      "outputs": [
        {
          "output_type": "stream",
          "text": [
            "Enter the a 4\n",
            "Enter the b 6\n",
            "6 b is greater\n"
          ],
          "name": "stdout"
        }
      ]
    },
    {
      "cell_type": "code",
      "metadata": {
        "id": "cI58Tdn8QDEf",
        "colab_type": "code",
        "colab": {
          "base_uri": "https://localhost:8080/",
          "height": 86
        },
        "outputId": "22130566-f810-43a9-c464-29a45f8e6c67"
      },
      "source": [
        "import cmath\n",
        "pi=3.14\n",
        "r=int(input(\"Enter the r\"))\n",
        "h=int(input(\"Enter the h\"))\n",
        "cy=(2*pi*r*r*h)\n",
        "co=((1/3)*pi*r*r*h)\n",
        "print(\"The surface area of a cylinder is \",cy)\n",
        "print(\"The surface area of a cone is \",co)"
      ],
      "execution_count": 4,
      "outputs": [
        {
          "output_type": "stream",
          "text": [
            "Enter the r45\n",
            "Enter the h88\n",
            "The surface area of a cylinder is  1119096.0000000002\n",
            "The surface area of a cone is  186516.0\n"
          ],
          "name": "stdout"
        }
      ]
    },
    {
      "cell_type": "code",
      "metadata": {
        "id": "nC0rwvaFQLH3",
        "colab_type": "code",
        "colab": {
          "base_uri": "https://localhost:8080/",
          "height": 104
        },
        "outputId": "1c938fdf-5039-4d8a-d658-0b51ba522132"
      },
      "source": [
        "def great(a,b,c,d):\n",
        "    if(a>b and a>c and a>d):\n",
        "        return a\n",
        "    elif(b>a and b>c and b>d):\n",
        "        return b\n",
        "    elif(c>a and c>b and c>d):\n",
        "        return c\n",
        "    else:\n",
        "        return d\n",
        "a=int(input(\"Enter the a\"))\n",
        "b=int(input(\"Enter the b\"))\n",
        "c=int(input(\"Enter the c\"))\n",
        "d=int(input(\"Enter the d\"))\n",
        "print(\"The greater number is \",great(a,b,c,d))"
      ],
      "execution_count": 5,
      "outputs": [
        {
          "output_type": "stream",
          "text": [
            "Enter the a4\n",
            "Enter the b5\n",
            "Enter the c2\n",
            "Enter the d8\n",
            "The greater number is  8\n"
          ],
          "name": "stdout"
        }
      ]
    },
    {
      "cell_type": "code",
      "metadata": {
        "id": "JPOfn7oxQSs2",
        "colab_type": "code",
        "colab": {
          "base_uri": "https://localhost:8080/",
          "height": 86
        },
        "outputId": "add694ea-0904-4927-edd2-3b47491ffa65"
      },
      "source": [
        "def cy(r,h):\n",
        "    return (2*pi*r*r*h)\n",
        "def co(r,h):\n",
        "    return ((1/3)*pi*r*r*h)\n",
        "r=int(input(\"Enter the r\"))\n",
        "h=int(input(\"Enter the h\"))\n",
        "print(\"The surface area of a cylinder is \",cy(r,h))\n",
        "print(\"The surface area of a cone is \",co(r,h))"
      ],
      "execution_count": 6,
      "outputs": [
        {
          "output_type": "stream",
          "text": [
            "Enter the r46\n",
            "Enter the h24\n",
            "The surface area of a cylinder is  318923.52\n",
            "The surface area of a cone is  53153.920000000006\n"
          ],
          "name": "stdout"
        }
      ]
    },
    {
      "cell_type": "code",
      "metadata": {
        "id": "k7yQ82zRSxvx",
        "colab_type": "code",
        "colab": {
          "base_uri": "https://localhost:8080/",
          "height": 784
        },
        "outputId": "198c9ef4-a2ad-429b-adc3-7c4f09fbc1c6"
      },
      "source": [
        "loop = 1\n",
        "choice = 0 \n",
        "def even(n):\n",
        "  if (n%2==0):\n",
        "    print(f\"The {n} is Even Number\")\n",
        "  else:\n",
        "    print(f\"The {n} is Odd Number\")\n",
        "def fact(n):\n",
        "  if n==0:\n",
        "    return 1\n",
        "  else:\n",
        "    return n*fact(n-1)\n",
        "def odd(n):\n",
        "  l=list()\n",
        "  for i in range(n):\n",
        "    if (i % 2 != 0):\n",
        "      l.append(i)      \n",
        "  print(l)\n",
        "def prime(n):\n",
        "  li=list()\n",
        "  for i in range(2,n):\n",
        "    if (i==2):\n",
        "        li.append(i)\n",
        "    else:\n",
        "      for a in range(2,i):\n",
        "        if (i % a==0):\n",
        "          break\n",
        "        elif (a==i-1):\n",
        "          li.append(i)\n",
        "  print(li)\n",
        "\n",
        "while loop == 1:\n",
        "  print('Enter your choice')\n",
        "  print('1.Odd or Even ')\n",
        "  print('2.Factorial ')\n",
        "  print('3.Odd up to N')\n",
        "  print('4.Prime up to N')\n",
        "  print('5.Quit ')                \n",
        "  try:\n",
        "        choice = int(input(\"Choose your option: \"))\n",
        "  except:\n",
        "        print('Please enter a valid number for option')\n",
        "  if choice == 1:\n",
        "        x = int(input(\"Enter the Number: \"))\n",
        "        even(x)      \n",
        "  elif choice == 2:\n",
        "        x = int(input(\"Enter the Number: \"))\n",
        "        print(f\"Factorial Of {x} is: {fact(x)}\")       \n",
        "  elif choice == 3:\n",
        "        x = int(input(\"Enter maximum range: \"))\n",
        "        odd(x)        \n",
        "  elif choice == 4:\n",
        "        x = int(input(\"Enter maximum range: \"))\n",
        "        prime(x)\n",
        "  elif choice == 5:\n",
        "      break\n",
        "     \n",
        "  else:\n",
        "        print(\"please choice a valid option from 1 to 5\")\n",
        "        choice=0"
      ],
      "execution_count": 9,
      "outputs": [
        {
          "output_type": "stream",
          "text": [
            "Enter your choice\n",
            "1.Odd or Even \n",
            "2.Factorial \n",
            "3.Odd up to N\n",
            "4.Prime up to N\n",
            "5.Quit \n",
            "Choose your option: 1\n",
            "Enter the Number: 5\n",
            "The 5 is Odd Number\n",
            "Enter your choice\n",
            "1.Odd or Even \n",
            "2.Factorial \n",
            "3.Odd up to N\n",
            "4.Prime up to N\n",
            "5.Quit \n",
            "Choose your option: 2\n",
            "Enter the Number: 42\n",
            "Factorial Of 42 is: 1405006117752879898543142606244511569936384000000000\n",
            "Enter your choice\n",
            "1.Odd or Even \n",
            "2.Factorial \n",
            "3.Odd up to N\n",
            "4.Prime up to N\n",
            "5.Quit \n",
            "Choose your option: 3\n",
            "Enter maximum range: 84\n",
            "[1, 3, 5, 7, 9, 11, 13, 15, 17, 19, 21, 23, 25, 27, 29, 31, 33, 35, 37, 39, 41, 43, 45, 47, 49, 51, 53, 55, 57, 59, 61, 63, 65, 67, 69, 71, 73, 75, 77, 79, 81, 83]\n",
            "Enter your choice\n",
            "1.Odd or Even \n",
            "2.Factorial \n",
            "3.Odd up to N\n",
            "4.Prime up to N\n",
            "5.Quit \n",
            "Choose your option: 4\n",
            "Enter maximum range: 22\n",
            "[2, 3, 5, 7, 11, 13, 17, 19]\n",
            "Enter your choice\n",
            "1.Odd or Even \n",
            "2.Factorial \n",
            "3.Odd up to N\n",
            "4.Prime up to N\n",
            "5.Quit \n",
            "Choose your option: 5\n"
          ],
          "name": "stdout"
        }
      ]
    }
  ]
}