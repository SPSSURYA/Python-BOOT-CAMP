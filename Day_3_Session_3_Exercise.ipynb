{
  "nbformat": 4,
  "nbformat_minor": 0,
  "metadata": {
    "colab": {
      "name": "Day 3 Session 3 Exercise.ipynb",
      "provenance": [],
      "authorship_tag": "ABX9TyMcMfUBDasUnOoKcVOEC9Df",
      "include_colab_link": true
    },
    "kernelspec": {
      "name": "python3",
      "display_name": "Python 3"
    }
  },
  "cells": [
    {
      "cell_type": "markdown",
      "metadata": {
        "id": "view-in-github",
        "colab_type": "text"
      },
      "source": [
        "<a href=\"https://colab.research.google.com/github/SPSSURYA/Python-BOOT-CAMP/blob/master/Day_3_Session_3_Exercise.ipynb\" target=\"_parent\"><img src=\"https://colab.research.google.com/assets/colab-badge.svg\" alt=\"Open In Colab\"/></a>"
      ]
    },
    {
      "cell_type": "code",
      "metadata": {
        "id": "pnI3bVf2_5QM",
        "colab_type": "code",
        "colab": {
          "base_uri": "https://localhost:8080/",
          "height": 86
        },
        "outputId": "9904c8e9-5a7a-44b0-8547-e57381dc1ecb"
      },
      "source": [
        "import math\n",
        "class cylinder():\n",
        "  def __init__(self,radius,height):\n",
        "    self.radius=radius\n",
        "    self.height=height\n",
        "  def area(self):\n",
        "    return math.pi*(self.radius*self.radius*self.height)\n",
        "  def perimeter(self):\n",
        "    return 2*math.pi*self.radius*self.height\n",
        "r=int(input(\"Enter radius of circle: \"))\n",
        "h=int(input(\"Enter heiht of cylinder\"))\n",
        "obj=cylinder(r,h)\n",
        "\n",
        "print(\"Area of cylinder:\",round(obj.area(),2))\n",
        "print(\"Perimeter of cylinder:\",round(obj.perimeter(),2))"
      ],
      "execution_count": null,
      "outputs": [
        {
          "output_type": "stream",
          "text": [
            "Enter radius of circle: 4\n",
            "Enter heiht of cylinder6\n",
            "Area of cylinder: 301.59\n",
            "Perimeter of cylinder: 150.8\n"
          ],
          "name": "stdout"
        }
      ]
    },
    {
      "cell_type": "code",
      "metadata": {
        "id": "vEE5RZG4VCFr",
        "colab_type": "code",
        "colab": {
          "base_uri": "https://localhost:8080/",
          "height": 69
        },
        "outputId": "d7004153-1f8e-4f6d-87a3-4b0018e31f7a"
      },
      "source": [
        "class Student():\n",
        "  def __init__(self):\n",
        "    self.name=None\n",
        "    self.rollno=None\n",
        "    self.mark1=None\n",
        "    self.mark2=None\n",
        "  def setdata(self,name,rollno,mark1,mark2):\n",
        "    self.name=name\n",
        "    self.rollno=rollno\n",
        "    self.mark1=mark1\n",
        "    self.mark2=mark2\n",
        "  def displaydata(self):\n",
        "    print(f'Name: {self.name}   Rollno: {self.rollno}    Mark1: {self.mark1}    Mark2: {self.mark2}')\n",
        "obj1=Student()\n",
        "obj1.setdata('raja', 48,78,45)\n",
        "obj2=Student()\n",
        "obj2.setdata('beem',94,35,94)\n",
        "obj3=Student()\n",
        "obj3.setdata('raju',45,99,85)\n",
        "obj1.displaydata()\n",
        "obj2.displaydata()\n",
        "obj3.displaydata()"
      ],
      "execution_count": 9,
      "outputs": [
        {
          "output_type": "stream",
          "text": [
            "Name: raja   Rollno: 48    Mark1: 78    Mark2: 45\n",
            "Name: beem   Rollno: 94    Mark1: 35    Mark2: 94\n",
            "Name: raju   Rollno: 45    Mark1: 99    Mark2: 85\n"
          ],
          "name": "stdout"
        }
      ]
    },
    {
      "cell_type": "code",
      "metadata": {
        "id": "k4zuvKa4ZqKq",
        "colab_type": "code",
        "colab": {
          "base_uri": "https://localhost:8080/",
          "height": 278
        },
        "outputId": "49140915-d6e3-4c60-e885-36ebb35d21f7"
      },
      "source": [
        "class Person():\n",
        "  def __init__(self, name, idnumber):\n",
        "    self.name=name\n",
        "    self.idnumber=idnumber\n",
        "  def display(self):\n",
        "    print(f'Name: {self.name}\\nIDNumber: {self.idnumber}')\n",
        "\n",
        "class Employee(Person):\n",
        "  def __init__(self,name, idnumber, salary, post):\n",
        "    self.salary=salary\n",
        "    self.post=post\n",
        "    super(Employee,self).__init__(name, idnumber)\n",
        "  def display(self):\n",
        "    super(Employee,self).display()\n",
        "    print(f'Salary: {self.salary}\\nPost: {self.post}')\n",
        "\n",
        "x=Person('raju',842)\n",
        "print('Parent Class')\n",
        "x.display()\n",
        "print()\n",
        "a=Employee('raja',785,64852,'HR')\n",
        "print('Child Class')\n",
        "a.display()\n",
        "print()\n",
        "b=Employee('beem',781,53035,'ViceChariman')\n",
        "print('Child Class')\n",
        "b.display()"
      ],
      "execution_count": 13,
      "outputs": [
        {
          "output_type": "stream",
          "text": [
            "Parent Class\n",
            "Name: raju\n",
            "IDNumber: 842\n",
            "\n",
            "Child Class\n",
            "Name: raja\n",
            "IDNumber: 785\n",
            "Salary: 64852\n",
            "Post: HR\n",
            "\n",
            "Child Class\n",
            "Name: beem\n",
            "IDNumber: 781\n",
            "Salary: 53035\n",
            "Post: ViceChariman\n"
          ],
          "name": "stdout"
        }
      ]
    },
    {
      "cell_type": "code",
      "metadata": {
        "id": "C9k8y1G9kk5K",
        "colab_type": "code",
        "colab": {
          "base_uri": "https://localhost:8080/",
          "height": 173
        },
        "outputId": "2aeec16f-dffa-4ed1-f84e-473eb9ce1a5e"
      },
      "source": [
        "class student:\n",
        "  def getStudent(self, rollno, name):\n",
        "    self.rollno=rollno\n",
        "    self.name=name\n",
        "\n",
        "class test(student):\n",
        "  def getMarks(self,math,science):\n",
        "    self.math=math\n",
        "    self.science=science\n",
        " \n",
        "class marks(test):\n",
        "  def display(self):\n",
        "    print(f'Name: {self.name}\\nRoolno.: {self.rollno}\\nMaths: {self.math}\\nScience: {self.science}\\nAverage: {(self.math+self.science)/2}')\n",
        "\n",
        "r=int(input('Enter the Rollno.: '))\n",
        "name=input('Enter the Name: ')\n",
        "math=int(input('Enter the marks of maths: '))\n",
        "science=int(input('Enter the marks of science: '))\n",
        "c=marks()\n",
        "c.getStudent(r,name)\n",
        "c.getMarks(math,science)\n",
        "c.display()\n"
      ],
      "execution_count": 23,
      "outputs": [
        {
          "output_type": "stream",
          "text": [
            "Enter the Rollno.: 45\n",
            "Enter the Name: raja\n",
            "Enter the marks of maths: 84\n",
            "Enter the marks of science: 96\n",
            "Name: raja\n",
            "Roolno.: 45\n",
            "Maths: 84\n",
            "Science: 96\n",
            "Average: 90.0\n"
          ],
          "name": "stdout"
        }
      ]
    },
    {
      "cell_type": "code",
      "metadata": {
        "id": "Kltk2bFwiNyk",
        "colab_type": "code",
        "colab": {
          "base_uri": "https://localhost:8080/",
          "height": 139
        },
        "outputId": "dabe9615-f488-44f2-dac2-08fa2ffa61b8"
      },
      "source": [
        "class India:\n",
        "  def capital(self):\n",
        "    print(\"Capital of india : Delhi\")\n",
        "  def currency(self):\n",
        "    print(\"Indian currency : Rupee\")\n",
        "  def language(self):\n",
        "    print(\"Indian Language : Hindi and English\")\n",
        "\n",
        "class Usa:\n",
        "  def capital(self):\n",
        "    print(\"\\nCapital of USA : Washington DC\")\n",
        "  def currency(self):\n",
        "    print(\"USA currency : Dollar\")\n",
        "  def language(self):\n",
        "    print('USA language : English')\n",
        "\n",
        "obj1 = India()\n",
        "obj2 = Usa() \n",
        "cont = [obj1,obj2]\n",
        "for obj in cont:\n",
        "  obj.capital()\n",
        "  obj.currency()\n",
        "  obj.language()"
      ],
      "execution_count": 20,
      "outputs": [
        {
          "output_type": "stream",
          "text": [
            "Capital of india : Delhi\n",
            "Indian currency : Rupee\n",
            "Indian Language : Hindi and English\n",
            "\n",
            "Capital of USA : Washington DC\n",
            "USA currency : Dollar\n",
            "USA language : English\n"
          ],
          "name": "stdout"
        }
      ]
    }
  ]
}