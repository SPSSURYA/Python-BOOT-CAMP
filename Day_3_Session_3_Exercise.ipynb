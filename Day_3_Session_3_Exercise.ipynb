{
  "nbformat": 4,
  "nbformat_minor": 0,
  "metadata": {
    "colab": {
      "name": "Day 3 Session 3 Exercise.ipynb",
      "provenance": [],
      "authorship_tag": "ABX9TyNM3IftpSdpTYY0/SWhc6He",
      "include_colab_link": true
    },
    "kernelspec": {
      "name": "python3",
      "display_name": "Python 3"
    }
  },
  "cells": [
    {
      "cell_type": "markdown",
      "metadata": {
        "id": "view-in-github",
        "colab_type": "text"
      },
      "source": [
        "<a href=\"https://colab.research.google.com/github/SPSSURYA/Python-BOOT-CAMP/blob/master/Day_3_Session_3_Exercise.ipynb\" target=\"_parent\"><img src=\"https://colab.research.google.com/assets/colab-badge.svg\" alt=\"Open In Colab\"/></a>"
      ]
    },
    {
      "cell_type": "code",
      "metadata": {
        "id": "pnI3bVf2_5QM",
        "colab_type": "code",
        "colab": {
          "base_uri": "https://localhost:8080/",
          "height": 86
        },
        "outputId": "9904c8e9-5a7a-44b0-8547-e57381dc1ecb"
      },
      "source": [
        "import math\n",
        "class cylinder():\n",
        "  def __init__(self,radius,height):\n",
        "    self.radius=radius\n",
        "    self.height=height\n",
        "  def area(self):\n",
        "    return math.pi*(self.radius*self.radius*self.height)\n",
        "  def perimeter(self):\n",
        "    return 2*math.pi*self.radius*self.height\n",
        "r=int(input(\"Enter radius of circle: \"))\n",
        "h=int(input(\"Enter heiht of cylinder\"))\n",
        "obj=cylinder(r,h)\n",
        "\n",
        "print(\"Area of cylinder:\",round(obj.area(),2))\n",
        "print(\"Perimeter of cylinder:\",round(obj.perimeter(),2))"
      ],
      "execution_count": 5,
      "outputs": [
        {
          "output_type": "stream",
          "text": [
            "Enter radius of circle: 4\n",
            "Enter heiht of cylinder6\n",
            "Area of cylinder: 301.59\n",
            "Perimeter of cylinder: 150.8\n"
          ],
          "name": "stdout"
        }
      ]
    },
    {
      "cell_type": "code",
      "metadata": {
        "id": "9JGSCGkqB1lt",
        "colab_type": "code",
        "colab": {}
      },
      "source": [
        "class student():\n",
        "  def __init__(self,name,rollno,mark1,mark2):\n",
        "    self.name=name\n",
        "    self.rollno=rollno\n",
        "    self.mark1=mark1\n",
        "    self.mark2=mark2\n",
        "  def setdata(self):\n",
        "    return name\n",
        "    return rollno\n",
        "    return mark1\n",
        "    return mark2\n",
        "  def displaydata(self):\n",
        "    return name\n",
        "    return rollno\n",
        "    return mark1\n",
        "    return mark2\n",
        "name=input(\"Enter the name\")\n",
        "rollno=input(\"Enter the rollno\")\n",
        "mark1=input(\"Enter the mark1\")\n",
        "mark2=input(\"Enter the mark2\")\n",
        "obj1=student()\n",
        "obj2=student()\n",
        "obj3=student()\n",
        "obj1.displaydata()\n",
        "obj2.displaydata()\n",
        "obj.displaydata()\n",
        "\n",
        "\n",
        "\n"
      ],
      "execution_count": null,
      "outputs": []
    },
    {
      "cell_type": "code",
      "metadata": {
        "id": "1mqEq9rzF2ZU",
        "colab_type": "code",
        "colab": {
          "base_uri": "https://localhost:8080/",
          "height": 237
        },
        "outputId": "ff9607ce-f63e-47c2-aa93-e7de8564df52"
      },
      "source": [
        "class Student: \n",
        " \n",
        " stdCount = 0 \n",
        " #defining the constructor \n",
        " def __init__(self, name, rollno, mark1, mark2): \n",
        "  self.name = name \n",
        "  self.rollno = rollno\n",
        "  self.mark1 = mark1\n",
        "  self.mark2 = mark2 \n",
        "  Student.stdCount += 1 \n",
        "  \n",
        " #defining the member functions \n",
        " def setdata(self): \n",
        "  print(\"Total Student %d\" % student.stdCount) \n",
        " def displaydata(self): \n",
        "  print (\"Name : \", self.name, \"\\n RollNo: \", self.rollno,\"Mark1 : \", self.mark1, \"\\n Mark2 : \",self.mark2 ) \n",
        "  \n",
        "obj1 = Student(\"Raju\",425,75,89,66) \n",
        "obj2 = Student(\"Ram\", 492,53,78,97)\n",
        "obj3 = Student(\"Beem\",246,45,64,88)\n",
        "obj1.displaydata() \n",
        "obj2.displaydata() \n",
        "obj3.displaydata()\n",
        "print(\"Total Students %d\" % Student.stdCount) \n"
      ],
      "execution_count": 10,
      "outputs": [
        {
          "output_type": "error",
          "ename": "TypeError",
          "evalue": "ignored",
          "traceback": [
            "\u001b[0;31m---------------------------------------------------------------------------\u001b[0m",
            "\u001b[0;31mTypeError\u001b[0m                                 Traceback (most recent call last)",
            "\u001b[0;32m<ipython-input-10-a758ac1409a0>\u001b[0m in \u001b[0;36m<module>\u001b[0;34m()\u001b[0m\n\u001b[1;32m     16\u001b[0m   \u001b[0mprint\u001b[0m \u001b[0;34m(\u001b[0m\u001b[0;34m\"Name : \"\u001b[0m\u001b[0;34m,\u001b[0m \u001b[0mself\u001b[0m\u001b[0;34m.\u001b[0m\u001b[0mname\u001b[0m\u001b[0;34m,\u001b[0m \u001b[0;34m\"\\n RollNo: \"\u001b[0m\u001b[0;34m,\u001b[0m \u001b[0mself\u001b[0m\u001b[0;34m.\u001b[0m\u001b[0mrollno\u001b[0m\u001b[0;34m,\u001b[0m\u001b[0;34m\"Mark1 : \"\u001b[0m\u001b[0;34m,\u001b[0m \u001b[0mself\u001b[0m\u001b[0;34m.\u001b[0m\u001b[0mmark1\u001b[0m\u001b[0;34m,\u001b[0m \u001b[0;34m\"\\n Mark2 : \"\u001b[0m\u001b[0;34m,\u001b[0m\u001b[0mself\u001b[0m\u001b[0;34m.\u001b[0m\u001b[0mmark2\u001b[0m \u001b[0;34m)\u001b[0m\u001b[0;34m\u001b[0m\u001b[0;34m\u001b[0m\u001b[0m\n\u001b[1;32m     17\u001b[0m \u001b[0;34m\u001b[0m\u001b[0m\n\u001b[0;32m---> 18\u001b[0;31m \u001b[0mobj1\u001b[0m \u001b[0;34m=\u001b[0m \u001b[0mStudent\u001b[0m\u001b[0;34m(\u001b[0m\u001b[0;34m\"Raju\"\u001b[0m\u001b[0;34m,\u001b[0m\u001b[0;36m425\u001b[0m\u001b[0;34m,\u001b[0m\u001b[0;36m75\u001b[0m\u001b[0;34m,\u001b[0m\u001b[0;36m89\u001b[0m\u001b[0;34m,\u001b[0m\u001b[0;36m66\u001b[0m\u001b[0;34m)\u001b[0m\u001b[0;34m\u001b[0m\u001b[0;34m\u001b[0m\u001b[0m\n\u001b[0m\u001b[1;32m     19\u001b[0m \u001b[0mobj2\u001b[0m \u001b[0;34m=\u001b[0m \u001b[0mStudent\u001b[0m\u001b[0;34m(\u001b[0m\u001b[0;34m\"Ram\"\u001b[0m\u001b[0;34m,\u001b[0m \u001b[0;36m492\u001b[0m\u001b[0;34m,\u001b[0m\u001b[0;36m53\u001b[0m\u001b[0;34m,\u001b[0m\u001b[0;36m78\u001b[0m\u001b[0;34m,\u001b[0m\u001b[0;36m97\u001b[0m\u001b[0;34m)\u001b[0m\u001b[0;34m\u001b[0m\u001b[0;34m\u001b[0m\u001b[0m\n\u001b[1;32m     20\u001b[0m \u001b[0mobj3\u001b[0m \u001b[0;34m=\u001b[0m \u001b[0mStudent\u001b[0m\u001b[0;34m(\u001b[0m\u001b[0;34m\"Beem\"\u001b[0m\u001b[0;34m,\u001b[0m\u001b[0;36m246\u001b[0m\u001b[0;34m,\u001b[0m\u001b[0;36m45\u001b[0m\u001b[0;34m,\u001b[0m\u001b[0;36m64\u001b[0m\u001b[0;34m,\u001b[0m\u001b[0;36m88\u001b[0m\u001b[0;34m)\u001b[0m\u001b[0;34m\u001b[0m\u001b[0;34m\u001b[0m\u001b[0m\n",
            "\u001b[0;31mTypeError\u001b[0m: __init__() takes 5 positional arguments but 6 were given"
          ]
        }
      ]
    },
    {
      "cell_type": "code",
      "metadata": {
        "id": "RNvtcyj7IwQg",
        "colab_type": "code",
        "colab": {
          "base_uri": "https://localhost:8080/",
          "height": 121
        },
        "outputId": "dd9078c5-4ec1-4251-e547-e0b9893aef45"
      },
      "source": [
        "class Employee: \n",
        " 'Common base class for all employees' \n",
        " empCount = 0 \n",
        " #defining the constructor \n",
        " def __init__(self, name, salary): \n",
        "  self.name = name \n",
        "  self.salary = salary \n",
        " Employee.empCount += 1 \n",
        "  \n",
        " #defining the member functions \n",
        " def displayCount(self): \n",
        "  print(\"Total Employee %d\" % Employee.empCount) \n",
        " def displayEmployee(self): \n",
        "  print (\"Name : \", self.name, \", Salary: \", self.salary) \n",
        "\"This would create first object of Employee class\" \n",
        "emp1 = Employee(\"Zara\", 2000) \n",
        "\"This would create second object of Employee class\" \n",
        "emp2 = Employee(\"Manni\", 5000)\n",
        "emp1.displayEmployee() \n",
        "emp2.displayEmployee() \n",
        "print(\"Total Employee %d\" % Employee.empCount) \n"
      ],
      "execution_count": 12,
      "outputs": [
        {
          "output_type": "stream",
          "text": [
            "Name :  Zara , Salary:  2000\n",
            "Name :  Manni , Salary:  5000\n",
            "Total Employee 0\n",
            "Name :  Zara , Salary:  2000\n",
            "Name :  Manni , Salary:  5000\n",
            "Total Employee 0\n"
          ],
          "name": "stdout"
        }
      ]
    }
  ]
}