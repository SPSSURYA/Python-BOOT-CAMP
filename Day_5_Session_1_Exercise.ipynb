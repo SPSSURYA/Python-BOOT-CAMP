{
  "nbformat": 4,
  "nbformat_minor": 0,
  "metadata": {
    "colab": {
      "name": "Day 5 Session 1 Exercise.ipynb",
      "provenance": [],
      "authorship_tag": "ABX9TyNDgeCwHY5Ij5RfW1os82lW",
      "include_colab_link": true
    },
    "kernelspec": {
      "name": "python3",
      "display_name": "Python 3"
    }
  },
  "cells": [
    {
      "cell_type": "markdown",
      "metadata": {
        "id": "view-in-github",
        "colab_type": "text"
      },
      "source": [
        "<a href=\"https://colab.research.google.com/github/SPSSURYA/Python-BOOT-CAMP/blob/master/Day_5_Session_1_Exercise.ipynb\" target=\"_parent\"><img src=\"https://colab.research.google.com/assets/colab-badge.svg\" alt=\"Open In Colab\"/></a>"
      ]
    },
    {
      "cell_type": "code",
      "metadata": {
        "id": "JpXfr3iKFMTZ",
        "colab_type": "code",
        "colab": {
          "base_uri": "https://localhost:8080/",
          "height": 86
        },
        "outputId": "c055be9a-75d7-4175-a632-c1931bb9bc6a"
      },
      "source": [
        "def check(l):\n",
        "  list=[]\n",
        "  for i in l:\n",
        "    if i==5:\n",
        "      list.append((i,'Equal to 5'))\n",
        "    elif (i<5):\n",
        "      list.append((i,'Less than 5'))\n",
        "    else:\n",
        "       list.append((i,'Greater than 5'))\n",
        "  return list\n",
        "\n",
        "a=[int(input('Enter the elements: ')) for i in range(int(input('Enter the number of elements: ')))]\n",
        "print(check(a))"
      ],
      "execution_count": 16,
      "outputs": [
        {
          "output_type": "stream",
          "text": [
            "Enter the number of elements: 2\n",
            "Enter the elements: 8\n",
            "Enter the elements: 2\n",
            "[(8, 'Greater than 5'), (2, 'Less than 5')]\n"
          ],
          "name": "stdout"
        }
      ]
    },
    {
      "cell_type": "code",
      "metadata": {
        "id": "lUbBIOLk5i9l",
        "colab_type": "code",
        "colab": {
          "base_uri": "https://localhost:8080/",
          "height": 243
        },
        "outputId": "c94f8fde-ed60-48cf-a237-3b993f0aad90"
      },
      "source": [
        "def triangle(n): \n",
        "    k = 2*n - 2 \n",
        "    for i in range(0, n): \n",
        "        for j in range(0, k): \n",
        "            print(end=\" \")  \n",
        "        k = k - 1\n",
        "        for j in range(0, i+1): \n",
        "            print(\"* \", end=\"\") \n",
        "        print(\"\\n\") \n",
        "n = int(input(\"Enter the number \"))\n",
        "triangle(n) "
      ],
      "execution_count": 10,
      "outputs": [
        {
          "output_type": "stream",
          "text": [
            "Enter the number 6\n",
            "          * \n",
            "\n",
            "         * * \n",
            "\n",
            "        * * * \n",
            "\n",
            "       * * * * \n",
            "\n",
            "      * * * * * \n",
            "\n",
            "     * * * * * * \n",
            "\n"
          ],
          "name": "stdout"
        }
      ]
    },
    {
      "cell_type": "code",
      "metadata": {
        "id": "S1OquW8BFY5m",
        "colab_type": "code",
        "colab": {
          "base_uri": "https://localhost:8080/",
          "height": 139
        },
        "outputId": "062a4be8-7ed3-40be-a315-c595a261ac74"
      },
      "source": [
        "def fib(limit): \n",
        "    a, b = 0, 1\n",
        "    while a <= limit: \n",
        "        yield a \n",
        "        a, b = b, a + b  \n",
        "for i in fib(int(input('Enter the limit: '))):  \n",
        "    print(i)"
      ],
      "execution_count": 17,
      "outputs": [
        {
          "output_type": "stream",
          "text": [
            "Enter the limit: 6\n",
            "0\n",
            "1\n",
            "1\n",
            "2\n",
            "3\n",
            "5\n"
          ],
          "name": "stdout"
        }
      ]
    },
    {
      "cell_type": "code",
      "metadata": {
        "id": "Qd0Yd05jFK-l",
        "colab_type": "code",
        "colab": {}
      },
      "source": [
        ""
      ],
      "execution_count": null,
      "outputs": []
    },
    {
      "cell_type": "code",
      "metadata": {
        "id": "VXGc2qTNFmNg",
        "colab_type": "code",
        "colab": {
          "base_uri": "https://localhost:8080/",
          "height": 52
        },
        "outputId": "a9604135-f140-4995-fc0d-af18579b64ee"
      },
      "source": [
        "def pal(n):\n",
        "  if (len(n)==1):\n",
        "    return n[0]\n",
        "  else:\n",
        "    return n[-1]+pal(n[:-1])\n",
        "\n",
        "s=input('Enter the Number or String: ')\n",
        "if pal(s)==s:\n",
        "  print('Palindrome')\n",
        "else:\n",
        "  print(\"Not a palindrome\")"
      ],
      "execution_count": 18,
      "outputs": [
        {
          "output_type": "stream",
          "text": [
            "Enter the Number or String: 4554\n",
            "Palindrome\n"
          ],
          "name": "stdout"
        }
      ]
    },
    {
      "cell_type": "code",
      "metadata": {
        "id": "uI8ZmaX6F0pK",
        "colab_type": "code",
        "colab": {
          "base_uri": "https://localhost:8080/",
          "height": 139
        },
        "outputId": "0c1e4d2d-4671-4a7f-eda8-f10d369e461c"
      },
      "source": [
        "golds = {\"Italy\": 12, \"USA\": 33, \"Brazil\": 15, \"China\": 27, \"Spain\": 19,\"Canada\": 22, \"Argentina\": 8, \"England\": 29}\n",
        "key=[]\n",
        "val=[]\n",
        "t=[]\n",
        "for k,v in golds.items():\n",
        "  key.append(k)\n",
        "  val.append(v)\n",
        "print(f'Seperate lists:\\n{key}\\n{val}')\n",
        "for i in range(len(key)):\n",
        "  t.append((key[i],val[i]))\n",
        "print(f'List of tuples:\\n{t}')\n",
        "print(f'Dict:\\n{dict(t)}')"
      ],
      "execution_count": 19,
      "outputs": [
        {
          "output_type": "stream",
          "text": [
            "Seperate lists:\n",
            "['Italy', 'USA', 'Brazil', 'China', 'Spain', 'Canada', 'Argentina', 'England']\n",
            "[12, 33, 15, 27, 19, 22, 8, 29]\n",
            "List of tuples:\n",
            "[('Italy', 12), ('USA', 33), ('Brazil', 15), ('China', 27), ('Spain', 19), ('Canada', 22), ('Argentina', 8), ('England', 29)]\n",
            "Dict:\n",
            "{'Italy': 12, 'USA': 33, 'Brazil': 15, 'China': 27, 'Spain': 19, 'Canada': 22, 'Argentina': 8, 'England': 29}\n"
          ],
          "name": "stdout"
        }
      ]
    },
    {
      "cell_type": "code",
      "metadata": {
        "id": "SoqDWzIiGTGQ",
        "colab_type": "code",
        "colab": {
          "base_uri": "https://localhost:8080/",
          "height": 106
        },
        "outputId": "76117f03-e225-4a16-abb5-ce7673984362"
      },
      "source": [
        "import operator\n",
        "golds = {\"Italy\": 114, \"Germany\": 782, \"Pakistan\": 10, \"Sweden\": 6,\\\n",
        "\"USA\": 2681, \"Zimbabwe\": 8, \"Greece\": 111, \"Mongolia\": 24,\\\n",
        "\"Brazil\": 108, \"Croatia\": 34, \"Algeria\": 15,\\\n",
        "\"Switzerland\": 323, \"Yugoslavia\": 87, \"China\": 526,\\\n",
        "\"Egypt\": 26, \"Norway\": 477, \"Spain\": 133, \"Australia\": 48,\\\n",
        "\"Slovakia\": 29, \"Canada\": 22, \"New Zealand\": 100,\\\n",
        "\"Denmark\": 180, \"Chile\": 13, \"Argentina\": 70, \\\n",
        "\"Thailand\": 24, \"Cuba\": 209, \"Uganda\": 7, \"England\": 806,\\\n",
        "\"Denmark\": 180, \"Ukraine\": 122, \"Bahamas\": 12}\n",
        "l=sorted(golds.items(), key=operator.itemgetter(1), reverse=False)\n",
        "m=sorted(golds.items(), key=operator.itemgetter(1), reverse=True)\n",
        "n=sorted(golds.items(), key=operator.itemgetter(0), reverse=False)\n",
        "o=sorted(golds.items(), key=operator.itemgetter(1), reverse=True)\n",
        "print(dict(l))\n",
        "print(dict(m))\n",
        "print(dict(n))\n",
        "print(dict(o))"
      ],
      "execution_count": 20,
      "outputs": [
        {
          "output_type": "stream",
          "text": [
            "{'Sweden': 6, 'Uganda': 7, 'Zimbabwe': 8, 'Pakistan': 10, 'Bahamas': 12, 'Chile': 13, 'Algeria': 15, 'Canada': 22, 'Mongolia': 24, 'Thailand': 24, 'Egypt': 26, 'Slovakia': 29, 'Croatia': 34, 'Australia': 48, 'Argentina': 70, 'Yugoslavia': 87, 'New Zealand': 100, 'Brazil': 108, 'Greece': 111, 'Italy': 114, 'Ukraine': 122, 'Spain': 133, 'Denmark': 180, 'Cuba': 209, 'Switzerland': 323, 'Norway': 477, 'China': 526, 'Germany': 782, 'England': 806, 'USA': 2681}\n",
            "{'USA': 2681, 'England': 806, 'Germany': 782, 'China': 526, 'Norway': 477, 'Switzerland': 323, 'Cuba': 209, 'Denmark': 180, 'Spain': 133, 'Ukraine': 122, 'Italy': 114, 'Greece': 111, 'Brazil': 108, 'New Zealand': 100, 'Yugoslavia': 87, 'Argentina': 70, 'Australia': 48, 'Croatia': 34, 'Slovakia': 29, 'Egypt': 26, 'Mongolia': 24, 'Thailand': 24, 'Canada': 22, 'Algeria': 15, 'Chile': 13, 'Bahamas': 12, 'Pakistan': 10, 'Zimbabwe': 8, 'Uganda': 7, 'Sweden': 6}\n",
            "{'Algeria': 15, 'Argentina': 70, 'Australia': 48, 'Bahamas': 12, 'Brazil': 108, 'Canada': 22, 'Chile': 13, 'China': 526, 'Croatia': 34, 'Cuba': 209, 'Denmark': 180, 'Egypt': 26, 'England': 806, 'Germany': 782, 'Greece': 111, 'Italy': 114, 'Mongolia': 24, 'New Zealand': 100, 'Norway': 477, 'Pakistan': 10, 'Slovakia': 29, 'Spain': 133, 'Sweden': 6, 'Switzerland': 323, 'Thailand': 24, 'USA': 2681, 'Uganda': 7, 'Ukraine': 122, 'Yugoslavia': 87, 'Zimbabwe': 8}\n",
            "{'USA': 2681, 'England': 806, 'Germany': 782, 'China': 526, 'Norway': 477, 'Switzerland': 323, 'Cuba': 209, 'Denmark': 180, 'Spain': 133, 'Ukraine': 122, 'Italy': 114, 'Greece': 111, 'Brazil': 108, 'New Zealand': 100, 'Yugoslavia': 87, 'Argentina': 70, 'Australia': 48, 'Croatia': 34, 'Slovakia': 29, 'Egypt': 26, 'Mongolia': 24, 'Thailand': 24, 'Canada': 22, 'Algeria': 15, 'Chile': 13, 'Bahamas': 12, 'Pakistan': 10, 'Zimbabwe': 8, 'Uganda': 7, 'Sweden': 6}\n"
          ],
          "name": "stdout"
        }
      ]
    }
  ]
}