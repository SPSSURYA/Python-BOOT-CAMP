{
  "nbformat": 4,
  "nbformat_minor": 0,
  "metadata": {
    "colab": {
      "name": "Day 2 Session 2 Exercise.ipynb",
      "provenance": [],
      "authorship_tag": "ABX9TyOxThchaO5Tbl3YwY9Wtb7l",
      "include_colab_link": true
    },
    "kernelspec": {
      "name": "python3",
      "display_name": "Python 3"
    }
  },
  "cells": [
    {
      "cell_type": "markdown",
      "metadata": {
        "id": "view-in-github",
        "colab_type": "text"
      },
      "source": [
        "<a href=\"https://colab.research.google.com/github/SPSSURYA/Python-BOOT-CAMP/blob/master/Day_2_Session_2_Exercise.ipynb\" target=\"_parent\"><img src=\"https://colab.research.google.com/assets/colab-badge.svg\" alt=\"Open In Colab\"/></a>"
      ]
    },
    {
      "cell_type": "code",
      "metadata": {
        "id": "YIcuz5JsLtA9",
        "colab_type": "code",
        "colab": {
          "base_uri": "https://localhost:8080/",
          "height": 191
        },
        "outputId": "dc931cae-de32-46a0-fdd3-800d39c65879"
      },
      "source": [
        "import operator\n",
        "d={}\n",
        "a=int(input(\"Enter the number\"))\n",
        "for i in range (a) :\n",
        "  n=input(f\"Enter The Name : \")\n",
        "  d[n]=int(input(f\"Enter The Marks  \"))\n",
        "print(dict(sorted(d.items(), key=operator.itemgetter(1), reverse=True)))"
      ],
      "execution_count": 2,
      "outputs": [
        {
          "output_type": "stream",
          "text": [
            "Enter the number4\n",
            "Enter The Name : SUHAS\n",
            "Enter The Marks  85\n",
            "Enter The Name : SEENA\n",
            "Enter The Marks  98\n",
            "Enter The Name : SURYA\n",
            "Enter The Marks  99\n",
            "Enter The Name : SAI\n",
            "Enter The Marks  82\n",
            "{'SURYA': 99, 'SEENA': 98, 'SUHAS': 85, 'SAI': 82}\n"
          ],
          "name": "stdout"
        }
      ]
    },
    {
      "cell_type": "code",
      "metadata": {
        "id": "Vzg2RZhYiVQH",
        "colab_type": "code",
        "colab": {
          "base_uri": "https://localhost:8080/",
          "height": 191
        },
        "outputId": "9b163949-deb9-4965-ac4c-bfc76fbb3815"
      },
      "source": [
        "import operator\n",
        "d={}\n",
        "a=int(input(\"Enter the number\"))\n",
        "for i in range (a) :\n",
        "  n=input(f\"Enter The Name : \")\n",
        "  d[n]=int(input(f\"Enter The Salary  \"))\n",
        "print(dict(sorted(d.items(), key=operator.itemgetter(1), )))"
      ],
      "execution_count": 5,
      "outputs": [
        {
          "output_type": "stream",
          "text": [
            "Enter the number4\n",
            "Enter The Name : surya\n",
            "Enter The Salary  88135\n",
            "Enter The Name : sai\n",
            "Enter The Salary  7845\n",
            "Enter The Name : suhas\n",
            "Enter The Salary  9563\n",
            "Enter The Name : seena\n",
            "Enter The Salary  6452\n",
            "{'seena': 6452, 'sai': 7845, 'suhas': 9563, 'surya': 88135}\n"
          ],
          "name": "stdout"
        }
      ]
    },
    {
      "cell_type": "code",
      "metadata": {
        "id": "KNihXViQjd8I",
        "colab_type": "code",
        "colab": {
          "base_uri": "https://localhost:8080/",
          "height": 260
        },
        "outputId": "1b94ab97-412f-429e-aebf-84a1910e3342"
      },
      "source": [
        "import operator\n",
        "d={}\n",
        "a=int(input(\"Enter the number\"))\n",
        "for i in range (a) :\n",
        "  n=input(f\"Enter The Name : \")\n",
        "  d[n]=int(input(f\"Enter The Salary  \"))\n",
        "print(dict(sorted(d.items(), key=operator.itemgetter(1), )))\n",
        "print(f\"Sum: {sum(d.values())}\")\n",
        "print(f\"Max: {max(d.values())}\")\n",
        "print(f\"Min: {min(d.values())}\")\n",
        "print(f\"Average: {sum(d.values())/len(d)}\")"
      ],
      "execution_count": 6,
      "outputs": [
        {
          "output_type": "stream",
          "text": [
            "Enter the number4\n",
            "Enter The Name : seena\n",
            "Enter The Salary  9845\n",
            "Enter The Name : sai\n",
            "Enter The Salary  8756\n",
            "Enter The Name : surya\n",
            "Enter The Salary  9245\n",
            "Enter The Name : suhas\n",
            "Enter The Salary  8456\n",
            "{'suhas': 8456, 'sai': 8756, 'surya': 9245, 'seena': 9845}\n",
            "Sum: 36302\n",
            "Max: 9845\n",
            "Min: 8456\n",
            "Average: 9075.5\n"
          ],
          "name": "stdout"
        }
      ]
    },
    {
      "cell_type": "code",
      "metadata": {
        "id": "o1wjQsIllAwJ",
        "colab_type": "code",
        "colab": {
          "base_uri": "https://localhost:8080/",
          "height": 191
        },
        "outputId": "1ab71dcd-7d58-462c-b679-398a81112700"
      },
      "source": [
        "\n",
        "d={}\n",
        "a=int(input(\"Enter the number\"))\n",
        "for i in range (a) :\n",
        "  n=input(f\"Enter The Name : \")\n",
        "  d[n]=int(input(f\"Enter The Salary  \"))\n",
        "print(dict([(k,v) for k,v in d.items() if 2000<v<4000]))"
      ],
      "execution_count": 7,
      "outputs": [
        {
          "output_type": "stream",
          "text": [
            "Enter the number4\n",
            "Enter The Name : sai\n",
            "Enter The Salary  3512\n",
            "Enter The Name : surya\n",
            "Enter The Salary  6015\n",
            "Enter The Name : suhas\n",
            "Enter The Salary  3999\n",
            "Enter The Name : seena\n",
            "Enter The Salary  8745\n",
            "{'sai': 3512, 'suhas': 3999}\n"
          ],
          "name": "stdout"
        }
      ]
    },
    {
      "cell_type": "code",
      "metadata": {
        "id": "3nozltliiNuJ",
        "colab_type": "code",
        "colab": {
          "base_uri": "https://localhost:8080/",
          "height": 52
        },
        "outputId": "9fdb581a-7c19-4310-ea0a-51b3133f6aad"
      },
      "source": [
        "d={0:'',1:'one',2:'two',3:'three',4:'four',5:'five',6:'six',7:'seven',8:'eight',9:'nine',\n",
        "   10:'ten',11:'eleven',12:'twelve',13:'thirteen',14:'fourteen',15:'fifteen',16:'sixteen',\n",
        "   17:'seventeen',18:'eightteen',19:'nineteen',20:'twenty',30:'thirty',40:'fourty',50:'fifty',\n",
        "   60:'sixty',70:'seventy',80:'eighty',90:'ninty',100:'One hundred',200:'Two hundred',300:'three hundred',400:'four hundred',500:'five hundred',600:'six hundred',700:'seven hundred',800:'eight hundred',900:'nine hundred'}\n",
        "num=int(input(\"Enter the integer between 100 to 999:\"))\n",
        "print(f\"{d[num//100*100]} {d[((num//10)%10)*10]} {d[num%10]}\")"
      ],
      "execution_count": 9,
      "outputs": [
        {
          "output_type": "stream",
          "text": [
            "Enter the integer between 100 to 999:648\n",
            "six hundred fourty eight\n"
          ],
          "name": "stdout"
        }
      ]
    },
    {
      "cell_type": "markdown",
      "metadata": {
        "id": "WHwx0ZZ4n_SG",
        "colab_type": "text"
      },
      "source": [
        "TEXT"
      ]
    },
    {
      "cell_type": "code",
      "metadata": {
        "id": "BY39gwQpoCAB",
        "colab_type": "code",
        "colab": {
          "base_uri": "https://localhost:8080/",
          "height": 34
        },
        "outputId": "fa29c276-921d-45a0-a406-dd8d7be98702"
      },
      "source": [
        "f=open(\"/content/sps.txt\",\"r\")\n",
        "t=f.read()\n",
        "c=0\n",
        "for i in t:\n",
        "  if(i!=\" \" and i!='\\n'):\n",
        "    c=c+1\n",
        "print(c)"
      ],
      "execution_count": 12,
      "outputs": [
        {
          "output_type": "stream",
          "text": [
            "46\n"
          ],
          "name": "stdout"
        }
      ]
    },
    {
      "cell_type": "code",
      "metadata": {
        "id": "dTVq50BjqtVu",
        "colab_type": "code",
        "colab": {
          "base_uri": "https://localhost:8080/",
          "height": 121
        },
        "outputId": "7ec348b3-fafd-4c72-c690-dbc2366234c9"
      },
      "source": [
        "file_txt = open(\"/content/sps.txt\",\"r\")\t\t\n",
        "text = file_txt.read()\t\n",
        "w = []\t\n",
        "d = dict() \n",
        "for line in text: \n",
        "    line = line.strip() \t\n",
        "    if(line.isdigit()):\n",
        "           w.append(line)\n",
        "for j in w:\n",
        "      if j in d:\n",
        "        d[j] = d[j] + 1\n",
        "      else: \n",
        "            d[j] = 1 \n",
        "for key in list(d.keys()): \n",
        "    print(key, \":\", d[key])"
      ],
      "execution_count": 18,
      "outputs": [
        {
          "output_type": "stream",
          "text": [
            "4 : 2\n",
            "5 : 2\n",
            "6 : 2\n",
            "7 : 1\n",
            "2 : 1\n",
            "3 : 1\n"
          ],
          "name": "stdout"
        }
      ]
    },
    {
      "cell_type": "code",
      "metadata": {
        "id": "edQf_BMqslOv",
        "colab_type": "code",
        "colab": {
          "base_uri": "https://localhost:8080/",
          "height": 52
        },
        "outputId": "a62d70ca-ab50-44dd-ad9b-d30f903d858a"
      },
      "source": [
        "name1 = input(\"Enter file to  read : \")\n",
        "name2 = input(\"Enter file to appended : \")\n",
        "fin = open(name1, \"r\")\n",
        "data2 = fin.read()\n",
        "fin.close()\n",
        "fout = open(name2, \"a\")\n",
        "fout.write(data2)\n",
        "fout.close()"
      ],
      "execution_count": 21,
      "outputs": [
        {
          "output_type": "stream",
          "text": [
            "Enter file to  read : /content/sps.txt\n",
            "Enter file to appended : /content/sps1.txt\n"
          ],
          "name": "stdout"
        }
      ]
    },
    {
      "cell_type": "code",
      "metadata": {
        "id": "Yg9xpBZPuMrV",
        "colab_type": "code",
        "colab": {
          "base_uri": "https://localhost:8080/",
          "height": 34
        },
        "outputId": "b9200fad-4aaa-4199-d5de-230e20a9baf3"
      },
      "source": [
        "file_txt = open(\"/content/sps.txt\",\"r\")\t\t\n",
        "text = file_txt.read()\t\t\t\n",
        "charc = 0\t\n",
        "for i in text:\t\t\t\t\n",
        "\tif(i == \" \"):\n",
        "\t\t charc += 1\n",
        " \n",
        "print (\"total num of spaces: \",charc);"
      ],
      "execution_count": 20,
      "outputs": [
        {
          "output_type": "stream",
          "text": [
            "total num of spaces:  9\n"
          ],
          "name": "stdout"
        }
      ]
    },
    {
      "cell_type": "code",
      "metadata": {
        "id": "2q_uD6JDuLJI",
        "colab_type": "code",
        "colab": {
          "base_uri": "https://localhost:8080/",
          "height": 237
        },
        "outputId": "98e7d487-28cc-40aa-bc79-0dde795736b0"
      },
      "source": [
        "with open('/sps.txt', 'r') as f:\n",
        "  with open(\"/sps1.txt\", \"w\") as f1:\n",
        "    for line in f:\n",
        "        l=line.title()\n",
        "        f1.write(l)\n",
        "file2=open(\"sps1.txt\",'r')\n",
        "line=file2.readline()\n",
        "while(line!=\"\"):\n",
        "    print(line)\n",
        "    line=file2.readline()\n",
        "file2.close()"
      ],
      "execution_count": 23,
      "outputs": [
        {
          "output_type": "error",
          "ename": "FileNotFoundError",
          "evalue": "ignored",
          "traceback": [
            "\u001b[0;31m---------------------------------------------------------------------------\u001b[0m",
            "\u001b[0;31mFileNotFoundError\u001b[0m                         Traceback (most recent call last)",
            "\u001b[0;32m<ipython-input-23-aec996fe2984>\u001b[0m in \u001b[0;36m<module>\u001b[0;34m()\u001b[0m\n\u001b[0;32m----> 1\u001b[0;31m \u001b[0;32mwith\u001b[0m \u001b[0mopen\u001b[0m\u001b[0;34m(\u001b[0m\u001b[0;34m'/sps.txt'\u001b[0m\u001b[0;34m,\u001b[0m \u001b[0;34m'r'\u001b[0m\u001b[0;34m)\u001b[0m \u001b[0;32mas\u001b[0m \u001b[0mf\u001b[0m\u001b[0;34m:\u001b[0m\u001b[0;34m\u001b[0m\u001b[0;34m\u001b[0m\u001b[0m\n\u001b[0m\u001b[1;32m      2\u001b[0m   \u001b[0;32mwith\u001b[0m \u001b[0mopen\u001b[0m\u001b[0;34m(\u001b[0m\u001b[0;34m\"/sps1.txt\"\u001b[0m\u001b[0;34m,\u001b[0m \u001b[0;34m\"w\"\u001b[0m\u001b[0;34m)\u001b[0m \u001b[0;32mas\u001b[0m \u001b[0mf1\u001b[0m\u001b[0;34m:\u001b[0m\u001b[0;34m\u001b[0m\u001b[0;34m\u001b[0m\u001b[0m\n\u001b[1;32m      3\u001b[0m     \u001b[0;32mfor\u001b[0m \u001b[0mline\u001b[0m \u001b[0;32min\u001b[0m \u001b[0mf\u001b[0m\u001b[0;34m:\u001b[0m\u001b[0;34m\u001b[0m\u001b[0;34m\u001b[0m\u001b[0m\n\u001b[1;32m      4\u001b[0m         \u001b[0ml\u001b[0m\u001b[0;34m=\u001b[0m\u001b[0mline\u001b[0m\u001b[0;34m.\u001b[0m\u001b[0mtitle\u001b[0m\u001b[0;34m(\u001b[0m\u001b[0;34m)\u001b[0m\u001b[0;34m\u001b[0m\u001b[0;34m\u001b[0m\u001b[0m\n\u001b[1;32m      5\u001b[0m         \u001b[0mf1\u001b[0m\u001b[0;34m.\u001b[0m\u001b[0mwrite\u001b[0m\u001b[0;34m(\u001b[0m\u001b[0ml\u001b[0m\u001b[0;34m)\u001b[0m\u001b[0;34m\u001b[0m\u001b[0;34m\u001b[0m\u001b[0m\n",
            "\u001b[0;31mFileNotFoundError\u001b[0m: [Errno 2] No such file or directory: '/sps.txt'"
          ]
        }
      ]
    }
  ]
}